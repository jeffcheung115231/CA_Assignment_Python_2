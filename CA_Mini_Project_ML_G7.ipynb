{
  "nbformat": 4,
  "nbformat_minor": 0,
  "metadata": {
    "colab": {
      "provenance": [],
      "authorship_tag": "ABX9TyMS+ybZ9Rc9H26rHmxeikj0",
      "include_colab_link": true
    },
    "kernelspec": {
      "name": "python3",
      "display_name": "Python 3"
    },
    "language_info": {
      "name": "python"
    }
  },
  "cells": [
    {
      "cell_type": "markdown",
      "metadata": {
        "id": "view-in-github",
        "colab_type": "text"
      },
      "source": [
        "<a href=\"https://colab.research.google.com/github/jeffcheung115231/CA_Assignment_Python_2/blob/main/CA_Mini_Project_ML_G7.ipynb\" target=\"_parent\"><img src=\"https://colab.research.google.com/assets/colab-badge.svg\" alt=\"Open In Colab\"/></a>"
      ]
    },
    {
      "cell_type": "code",
      "source": [
        "# @title\n",
        "import numpy as np\n",
        "import pandas as pd\n",
        "import matplotlib.pyplot as plt\n",
        "import seaborn as sns\n",
        "import sklearn.datasets\n",
        "from sklearn.ensemble import RandomForestClassifier\n",
        "from sklearn.model_selection import train_test_split\n",
        "from sklearn.model_selection import GridSearchCV\n",
        "# from xgboost import XGBRegressor\n",
        "# from sklearn import metrics"
      ],
      "metadata": {
        "id": "rzWjAiOdD1XD"
      },
      "execution_count": null,
      "outputs": []
    },
    {
      "cell_type": "code",
      "execution_count": null,
      "metadata": {
        "id": "R1Xbzj9fDRmD"
      },
      "outputs": [],
      "source": [
        "df = pd.read_csv(\"adult.csv\")"
      ]
    },
    {
      "cell_type": "code",
      "source": [
        "df"
      ],
      "metadata": {
        "id": "VAeSxNYxDbHJ"
      },
      "execution_count": null,
      "outputs": []
    },
    {
      "cell_type": "code",
      "source": [
        "df.info()"
      ],
      "metadata": {
        "id": "XZyJSZa5DdDm"
      },
      "execution_count": null,
      "outputs": []
    },
    {
      "cell_type": "code",
      "source": [
        "df.education.value_counts()"
      ],
      "metadata": {
        "id": "mBOD_JjlDebH"
      },
      "execution_count": null,
      "outputs": []
    },
    {
      "cell_type": "code",
      "source": [
        "df.workclass.value_counts()"
      ],
      "metadata": {
        "id": "u4_3U_BqDgxY"
      },
      "execution_count": null,
      "outputs": []
    },
    {
      "cell_type": "code",
      "source": [
        "df.occupation.value_counts()"
      ],
      "metadata": {
        "id": "eWO-O76tDiuF"
      },
      "execution_count": null,
      "outputs": []
    },
    {
      "cell_type": "code",
      "source": [
        "df.gender.value_counts()"
      ],
      "metadata": {
        "id": "OaBnJYWsDkGp"
      },
      "execution_count": null,
      "outputs": []
    },
    {
      "cell_type": "code",
      "source": [
        "pd.get_dummies(df.occupation)"
      ],
      "metadata": {
        "id": "viq8msQpDmTC"
      },
      "execution_count": null,
      "outputs": []
    },
    {
      "cell_type": "code",
      "source": [
        "pd.get_dummies(df.occupation).add_prefix('occupation')"
      ],
      "metadata": {
        "id": "lOZ_9E0BDoTH"
      },
      "execution_count": null,
      "outputs": []
    },
    {
      "cell_type": "code",
      "source": [
        "df = pd.concat([df.drop('occupation', axis=1), pd.get_dummies(df.occupation).add_prefix('occupation')], axis=1)\n",
        "df = pd.concat([df.drop('workclass', axis=1), pd.get_dummies(df.workclass).add_prefix('workclass_')], axis=1)\n",
        "df = df.drop('education', axis=1)\n",
        "df = pd.concat([df.drop('marital-status', axis=1), pd.get_dummies(df['marital-status']).add_prefix('marital-status_')], axis=1)\n",
        "df = pd.concat([df.drop('relationship', axis=1), pd.get_dummies(df.relationship).add_prefix('relationship_')], axis=1)\n",
        "df = pd.concat([df.drop('race', axis=1), pd.get_dummies(df.race).add_prefix('race_')], axis=1)\n",
        "df = pd.concat([df.drop('native-country', axis=1), pd.get_dummies(df['native-country']).add_prefix('native-country_')], axis=1)"
      ],
      "metadata": {
        "id": "n20J4cE4Dp7B"
      },
      "execution_count": null,
      "outputs": []
    },
    {
      "cell_type": "code",
      "source": [
        "df"
      ],
      "metadata": {
        "id": "1GCDI-DwEhXC"
      },
      "execution_count": null,
      "outputs": []
    },
    {
      "cell_type": "code",
      "source": [
        "df['gender'] = df['gender'].apply(lambda x : 1 if x =='Male' else 0)\n",
        "df['income'] = df['income'].apply(lambda x : 1 if x =='>50K' else 0)"
      ],
      "metadata": {
        "id": "qeluql7KHdme"
      },
      "execution_count": null,
      "outputs": []
    },
    {
      "cell_type": "code",
      "source": [
        "df"
      ],
      "metadata": {
        "id": "DWMRtOJwJnOA"
      },
      "execution_count": null,
      "outputs": []
    },
    {
      "cell_type": "code",
      "source": [
        "df['income']"
      ],
      "metadata": {
        "id": "FmjjwNyYKISZ"
      },
      "execution_count": null,
      "outputs": []
    },
    {
      "cell_type": "code",
      "source": [
        "df.columns.values"
      ],
      "metadata": {
        "id": "8olZt1zdHw6s"
      },
      "execution_count": null,
      "outputs": []
    },
    {
      "cell_type": "code",
      "source": [
        "plt.figure(figsize=(18, 12))\n",
        "sns.heatmap(df.corr(), annot=False, cmap='coolwarm')"
      ],
      "metadata": {
        "id": "As-3tx90H17f"
      },
      "execution_count": null,
      "outputs": []
    },
    {
      "cell_type": "code",
      "source": [
        "df.corr()"
      ],
      "metadata": {
        "id": "EvYYuWanIGo2"
      },
      "execution_count": null,
      "outputs": []
    },
    {
      "cell_type": "code",
      "source": [
        "correlations = df.corr()['income'].abs()\n",
        "sorted_correlations = correlations.sort_values()\n",
        "num_cols_to_drop = int(0.8* len(df.columns))\n",
        "cols_to_drop = sorted_correlations.iloc[:num_cols_to_drop].index\n",
        "df_dropped = df.drop(cols_to_drop, axis=1)"
      ],
      "metadata": {
        "id": "9kbSSHuCJX_d"
      },
      "execution_count": null,
      "outputs": []
    },
    {
      "cell_type": "code",
      "source": [
        "df_dropped"
      ],
      "metadata": {
        "id": "Daw9CwnSLJmm"
      },
      "execution_count": null,
      "outputs": []
    },
    {
      "cell_type": "code",
      "source": [
        "plt.figure(figsize=(15, 10))\n",
        "sns.heatmap(df_dropped.corr(), annot=True, cmap='coolwarm')"
      ],
      "metadata": {
        "id": "X-JRp22sMEKP"
      },
      "execution_count": null,
      "outputs": []
    },
    {
      "cell_type": "code",
      "source": [
        "df = df.drop('fnlwgt', axis=1)"
      ],
      "metadata": {
        "id": "G5K1pgoaQePQ"
      },
      "execution_count": null,
      "outputs": []
    },
    {
      "cell_type": "code",
      "source": [
        "train_df, test_df = train_test_split(df, test_size=0.2)"
      ],
      "metadata": {
        "id": "lmR5CJWELpge"
      },
      "execution_count": null,
      "outputs": []
    },
    {
      "cell_type": "code",
      "source": [
        "train_df"
      ],
      "metadata": {
        "id": "ZjtCfxLiNv3e"
      },
      "execution_count": null,
      "outputs": []
    },
    {
      "cell_type": "code",
      "source": [
        "train_X = train_df.drop('income', axis=1)\n",
        "train_y = train_df['income']\n",
        "test_X = test_df.drop('income', axis=1)\n",
        "test_y = test_df['income']"
      ],
      "metadata": {
        "id": "UFOpsgR6NyWq"
      },
      "execution_count": null,
      "outputs": []
    },
    {
      "cell_type": "code",
      "source": [
        "forest = RandomForestClassifier()\n",
        "\n",
        "forest.fit(train_X, train_y)"
      ],
      "metadata": {
        "id": "9SrtkjnhOIWc"
      },
      "execution_count": null,
      "outputs": []
    },
    {
      "cell_type": "code",
      "source": [
        "forest.score(test_X, test_y)"
      ],
      "metadata": {
        "id": "VoIy-azPOZN2"
      },
      "execution_count": null,
      "outputs": []
    },
    {
      "cell_type": "code",
      "source": [
        "forest.feature_importances_"
      ],
      "metadata": {
        "id": "DikInxhSPIq-"
      },
      "execution_count": null,
      "outputs": []
    },
    {
      "cell_type": "code",
      "source": [
        "forest.feature_names_in_"
      ],
      "metadata": {
        "id": "QxmsCuZBPNeN"
      },
      "execution_count": null,
      "outputs": []
    },
    {
      "cell_type": "code",
      "source": [
        "importances = dict(zip(forest.feature_names_in_, forest.feature_importances_))\n",
        "importances = {k: v for k, v in sorted(importances.items(),key=lambda x:x[1],reverse=True)}"
      ],
      "metadata": {
        "id": "FygqogrXPXf8"
      },
      "execution_count": null,
      "outputs": []
    },
    {
      "cell_type": "code",
      "source": [
        "importances"
      ],
      "metadata": {
        "id": "vXffPaBqQGTS"
      },
      "execution_count": null,
      "outputs": []
    },
    {
      "cell_type": "code",
      "source": [
        "param_grid = {\n",
        "    'n_estimators':[50,100,250],\n",
        "    'max_depth' : [5,10,30,None],\n",
        "    'min_samples_split':[2,4],\n",
        "    'max_features':['sqrt','log2']\n",
        "}"
      ],
      "metadata": {
        "id": "TfEZoBVwQNUy"
      },
      "execution_count": null,
      "outputs": []
    },
    {
      "cell_type": "code",
      "source": [
        "grid_search = GridSearchCV(estimator= RandomForestClassifier(),\n",
        "                           param_grid=param_grid, verbose=10)"
      ],
      "metadata": {
        "id": "cgmZF4RWR9Rb"
      },
      "execution_count": null,
      "outputs": []
    },
    {
      "cell_type": "code",
      "source": [
        "grid_search.fit(train_X, train_y)"
      ],
      "metadata": {
        "id": "aSsgPiyvSNHw"
      },
      "execution_count": null,
      "outputs": []
    },
    {
      "cell_type": "code",
      "source": [
        "grid_search.best_estimator_"
      ],
      "metadata": {
        "id": "U_XNPPCwSbxh"
      },
      "execution_count": null,
      "outputs": []
    },
    {
      "cell_type": "code",
      "source": [
        "forest = grid_search.best_estimator_"
      ],
      "metadata": {
        "id": "YUmxhlPFSfVX"
      },
      "execution_count": null,
      "outputs": []
    },
    {
      "cell_type": "code",
      "source": [
        "forest.score(test_X, test_y)"
      ],
      "metadata": {
        "id": "JJ3WFWzYSi38"
      },
      "execution_count": null,
      "outputs": []
    },
    {
      "cell_type": "code",
      "source": [
        "importances = dict(zip(forest.feature_names_in_, forest.feature_importances_))\n",
        "importances = {k: v for k, v in sorted(importances.items(),key=lambda x:x[1],reverse=True)}"
      ],
      "metadata": {
        "id": "MFISzCXVSoGW"
      },
      "execution_count": null,
      "outputs": []
    },
    {
      "cell_type": "code",
      "source": [
        "importances"
      ],
      "metadata": {
        "id": "skUoHsDjSosX"
      },
      "execution_count": null,
      "outputs": []
    },
    {
      "cell_type": "code",
      "source": [
        "# Done!!"
      ],
      "metadata": {
        "id": "vBI8yobWSuAt"
      },
      "execution_count": null,
      "outputs": []
    },
    {
      "cell_type": "markdown",
      "source": [],
      "metadata": {
        "id": "sfSXU1FQRjML"
      }
    }
  ]
}